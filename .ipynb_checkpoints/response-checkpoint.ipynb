{
 "cells": [
  {
   "cell_type": "markdown",
   "metadata": {},
   "source": [
    "Hi there! In this notebook we are creating responses for our chatbot based on the trained model. We will\n",
    "- load our model, important data structures and the datafile containing the intents of our chatbot\n",
    "- classify sentence into difrrent categoriees\n",
    "- creating a response for our chatbot"
   ]
  },
  {
   "cell_type": "code",
   "execution_count": 1,
   "metadata": {},
   "outputs": [
    {
     "name": "stdout",
     "output_type": "stream",
     "text": [
      "WARNING:tensorflow:From C:\\Users\\erfur\\anaconda3\\Lib\\site-packages\\keras\\src\\losses.py:2976: The name tf.losses.sparse_softmax_cross_entropy is deprecated. Please use tf.compat.v1.losses.sparse_softmax_cross_entropy instead.\n",
      "\n"
     ]
    }
   ],
   "source": [
    "# things we need for language processing\n",
    "import nltk\n",
    "from nltk.stem.lancaster import LancasterStemmer\n",
    "stemmer = LancasterStemmer()\n",
    "\n",
    "# we will need the tensorflow and numpy library \n",
    "import numpy as np\n",
    "import tensorflow as tf\n",
    "\n",
    "# for creating some randomness in the chatbot responses\n",
    "import random"
   ]
  },
  {
   "cell_type": "code",
   "execution_count": 2,
   "metadata": {},
   "outputs": [],
   "source": [
    "# restore all of your data structures\n",
    "import pickle\n",
    "data = pickle.load( open( \"training_data\", \"rb\" ) )\n",
    "corpus = data['corpus']\n",
    "classes = data['classes']\n",
    "train_x = data['train_x']\n",
    "train_y = data['train_y']\n",
    "\n",
    "# import the data file with the intents for your chatbot\n",
    "import json\n",
    "with open('datafile.json') as json_data:\n",
    "    intents = json.load(json_data)"
   ]
  },
  {
   "cell_type": "code",
   "execution_count": 3,
   "metadata": {},
   "outputs": [],
   "source": [
    "# preprocess a sentence \n",
    "def clean_up_sentence(sentence):\n",
    "    # tokenize the pattern\n",
    "    sentence_words = nltk.word_tokenize(sentence)\n",
    "    # stem each word\n",
    "    sentence_words = [stemmer.stem(word.lower()) for word in sentence_words]\n",
    "    return sentence_words\n",
    "\n",
    "# return bag of words array: 0 or 1 for each word in the bag that exists in the sentence\n",
    "def bow(sentence, corpus):\n",
    "    # tokenize the pattern\n",
    "    sentence_words = clean_up_sentence(sentence)\n",
    "    # bag of words\n",
    "    bag_of_words = [0]*len(corpus)  \n",
    "    for s in sentence_words:\n",
    "        for i,w in enumerate(corpus):\n",
    "            if w == s: \n",
    "                bag_of_words[i] = 1\n",
    "\n",
    "    return(np.array(bag_of_words))"
   ]
  },
  {
   "cell_type": "code",
   "execution_count": 4,
   "metadata": {},
   "outputs": [
    {
     "name": "stdout",
     "output_type": "stream",
     "text": [
      "WARNING:tensorflow:From C:\\Users\\erfur\\anaconda3\\Lib\\site-packages\\keras\\src\\saving\\legacy\\saved_model\\load.py:107: The name tf.gfile.Exists is deprecated. Please use tf.io.gfile.exists instead.\n",
      "\n",
      "WARNING:tensorflow:From C:\\Users\\erfur\\anaconda3\\Lib\\site-packages\\keras\\src\\utils\\tf_utils.py:585: The name tf.executing_eagerly_outside_functions is deprecated. Please use tf.compat.v1.executing_eagerly_outside_functions instead.\n",
      "\n"
     ]
    }
   ],
   "source": [
    "# load our trained model\n",
    "model = tf.keras.models.load_model('my_model')"
   ]
  },
  {
   "cell_type": "code",
   "execution_count": 5,
   "metadata": {},
   "outputs": [],
   "source": [
    "# classify a sentence into categories defined by 'classes' array\n",
    "def classify(sentence):\n",
    "    # generate probabilities from the model\n",
    "    results = model.predict(bow(sentence, corpus).reshape(1,-1))[0]\n",
    "    results = [[i,r] for i,r in enumerate(results)]\n",
    "    # sort by strength of probability\n",
    "    results.sort(key=lambda x: x[1], reverse=True)\n",
    "    return_list = []\n",
    "    for r in results:\n",
    "        return_list.append((classes[r[0]], r[1]))\n",
    "    # return tuple of intent and probability\n",
    "    return return_list\n",
    "\n",
    "# We add 'context' to the dialog: if a category contains a 'context_filter', a response from this category \n",
    "# can only be activated if another category with a 'context_set' was applied first. \n",
    "# E.g: A response from the category 'topic' can only be activated if the category 'courses' was applied before.\n",
    "context = set()\n",
    "\n",
    "# Define a threshold of confidence, if a category get's a probability above this threshold\n",
    "# the chatbot gives an appropriate response, otherwise he will reply that he doesn't understand.\n",
    "CONFIDENCE_LEVEL = 0.5\n",
    "do_not_understand = [\"I don't understand..\", \"Rephrase please..\", \"Uff, I don't get you..\"]\n",
    "\n",
    "# create a response from the input sentence\n",
    "def response(sentence, show_details=False):\n",
    "    \n",
    "    global context\n",
    "    \n",
    "    results = classify(sentence)\n",
    "    if show_details:\n",
    "        print('results:', results)\n",
    "\n",
    "    # if we have a classification then find the matching intent tag, otherwise reply that it doesn't understand. \n",
    "    if results and (results[0][1] > CONFIDENCE_LEVEL):\n",
    "        # loop as long as there are matches to process\n",
    "        while results:\n",
    "            for intent in intents['intents']:\n",
    "                # find a tag matching the first result\n",
    "                if intent['tag'] == results[0][0]:\n",
    "                    # set context for this intent if necessary\n",
    "                    if 'context_set' in intent:\n",
    "                        context.clear()\n",
    "                        context.add(intent['context_set'])\n",
    "                        if show_details:\n",
    "                            print ('context:', context)\n",
    "\n",
    "                    # check if this intent is contextual and applies to this user's conversation\n",
    "                    if not 'context_filter' in intent or ('context_filter' in intent and intent['context_filter'] in context):\n",
    "                        # a random response from the intent\n",
    "                        return random.choice(intent['responses'])\n",
    "\n",
    "            results.pop(0)\n",
    "        return random.choice(do_not_understand) \n",
    "    else:\n",
    "        return random.choice(do_not_understand) "
   ]
  },
  {
   "cell_type": "markdown",
   "metadata": {},
   "source": [
    "Nice! Now you have implemented the response for your chatbot. The only thing left to do is to start chatting. ;-)"
   ]
  }
 ],
 "metadata": {
  "kernelspec": {
   "display_name": "Python 3 (ipykernel)",
   "language": "python",
   "name": "python3"
  },
  "language_info": {
   "codemirror_mode": {
    "name": "ipython",
    "version": 3
   },
   "file_extension": ".py",
   "mimetype": "text/x-python",
   "name": "python",
   "nbconvert_exporter": "python",
   "pygments_lexer": "ipython3",
   "version": "3.11.5"
  }
 },
 "nbformat": 4,
 "nbformat_minor": 1
}
